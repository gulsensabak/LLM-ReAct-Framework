{
 "cells": [
  {
   "cell_type": "markdown",
   "metadata": {},
   "source": [
    "# Algebraic operations on complex numbers"
   ]
  },
  {
   "cell_type": "markdown",
   "metadata": {},
   "source": [
    "Import necessary libraries"
   ]
  },
  {
   "cell_type": "code",
   "execution_count": null,
   "metadata": {},
   "outputs": [],
   "source": [
    "from dotenv import load_dotenv\n",
    "import os\n",
    "\n",
    "load_dotenv()\n",
    "API_KEY = os.environ.get(\"OPENAI_API_KEY\")"
   ]
  },
  {
   "cell_type": "code",
   "execution_count": null,
   "metadata": {},
   "outputs": [],
   "source": [
    "from langchain.agents import AgentType\n",
    "from langchain.agents import initialize_agent, Tool"
   ]
  },
  {
   "cell_type": "code",
   "execution_count": null,
   "metadata": {},
   "outputs": [],
   "source": [
    "import cmath\n",
    "import sympy as sp"
   ]
  },
  {
   "cell_type": "code",
   "execution_count": null,
   "metadata": {},
   "outputs": [],
   "source": [
    "from langchain.chat_models import ChatOpenAI\n",
    "\n",
    "llm = ChatOpenAI(temperature = 0, model = \"gpt-3.5-turbo\")"
   ]
  },
  {
   "cell_type": "markdown",
   "metadata": {},
   "source": [
    "Define necassary functions for arithmetic operations"
   ]
  },
  {
   "cell_type": "code",
   "execution_count": null,
   "metadata": {},
   "outputs": [],
   "source": [
    "def add_complex(a: complex, b: complex) -> complex:\n",
    "    return a + b\n",
    "\n",
    "def subtract_complex(a: complex, b: complex) -> complex:\n",
    "    return a - b\n",
    "\n",
    "def multiply_complex(a: complex, b: complex) -> complex:\n",
    "    return a * b\n",
    "\n",
    "def divide_complex(a: complex, b:complex) -> complex:\n",
    "    if b == 0:\n",
    "        return \"Division by zero is undefined.\"\n",
    "    return a / b"
   ]
  },
  {
   "cell_type": "code",
   "execution_count": null,
   "metadata": {},
   "outputs": [],
   "source": [
    "def solve_complex_equation(equation: str) -> str:\n",
    "    z = sp.symbols('z')\n",
    "    try:\n",
    "        # Convert string equation to a sympy equation\n",
    "        sympy_eq = sp.simplify(equation)\n",
    "        print(sympy_eq)\n",
    "        # Solve for z\n",
    "        solutions = sp.solve(sympy_eq, z)\n",
    "        return f\"Solutions: {solutions}\"\n",
    "    except Exception as e:\n",
    "        return str(e)"
   ]
  },
  {
   "cell_type": "code",
   "execution_count": null,
   "metadata": {},
   "outputs": [],
   "source": [
    "def nth_root_complex(a: complex, n: int) -> list:\n",
    "    return [cmath.exp(cmath.log(a)/n + 2j * cmath.pi * k/n) for k in range(n)]"
   ]
  },
  {
   "cell_type": "markdown",
   "metadata": {},
   "source": [
    "One function to access all of the above functions (one function since I will use it in Tool)"
   ]
  },
  {
   "cell_type": "code",
   "execution_count": null,
   "metadata": {},
   "outputs": [],
   "source": [
    "def perform_complex_operation(operation: str, *args):\n",
    "    try:\n",
    "        if operation == \"add\":\n",
    "            return add_complex(complex(args[0]), complex(args[1]))\n",
    "        \n",
    "        elif operation == \"subtract\":\n",
    "            return subtract_complex(complex(args[0]), complex(args[1]))\n",
    "        \n",
    "        elif operation == \"multiply\":\n",
    "            return multiply_complex(complex(args[0]), complex(args[1]))\n",
    "        \n",
    "        elif operation == \"divide\":\n",
    "            return divide_complex(complex(args[0]), complex(args[1]))\n",
    "        \n",
    "        elif operation == \"solve\":\n",
    "            return solve_complex_equation(args[0])\n",
    "        \n",
    "        elif operation == \"root\":\n",
    "            return nth_root_complex(complex(args[0]), int(args[1]))\n",
    "        \n",
    "        else:\n",
    "            return \"Operation not supported.\"\n",
    "        \n",
    "    except Exception as e:\n",
    "        return str(e)"
   ]
  },
  {
   "cell_type": "markdown",
   "metadata": {},
   "source": [
    "Creating tool for complex operations"
   ]
  },
  {
   "cell_type": "code",
   "execution_count": null,
   "metadata": {},
   "outputs": [],
   "source": [
    "complex_algebra_tool = Tool(\n",
    "    name = \"Complex Algebra\",\n",
    "    func = perform_complex_operation,\n",
    "    description = \"Performs complex algebraic operations like addition, subtraction, multiplication, division, solving equations and finding roots.\"\n",
    ")"
   ]
  },
  {
   "cell_type": "markdown",
   "metadata": {},
   "source": [
    "Since perform_complex_operation cannot directly solve the problem, I need to parse the arguments"
   ]
  },
  {
   "cell_type": "code",
   "execution_count": null,
   "metadata": {},
   "outputs": [],
   "source": [
    "import re\n",
    "\n",
    "def parse_question(question: str):\n",
    "    # Match for operations and complex numbers\n",
    "    match = re.match(r\"(add|subtract|multiply|divide) the complex numbers \\(([-+]?\\d*\\.?\\d+[+-]\\d*\\.?\\d*j)\\) and \\(([-+]?\\d*\\.?\\d+[+-]\\d*\\.?\\d*j)\\)\", question, re.IGNORECASE)\n",
    "    \n",
    "    if match:\n",
    "        operation = match.group(1).lower()\n",
    "        num1 = match.group(2)\n",
    "        num2 = match.group(3)\n",
    "        return perform_complex_operation(operation, num1, num2)\n",
    "    else:\n",
    "        return \"Operation not supported or unable to parse the question.\""
   ]
  },
  {
   "cell_type": "markdown",
   "metadata": {},
   "source": [
    "Creating tool for parsing"
   ]
  },
  {
   "cell_type": "code",
   "execution_count": null,
   "metadata": {},
   "outputs": [],
   "source": [
    "parse_algebra_tool = Tool(\n",
    "    name = \"Parse Algebra\",\n",
    "    func = parse_question,  # Use the parsing function here\n",
    "    description = \"Performs parsing complex algebraic operations like addition, subtraction, multiplication, and division.\"\n",
    ")"
   ]
  },
  {
   "cell_type": "markdown",
   "metadata": {},
   "source": [
    "Initialization of agent relying on our tools"
   ]
  },
  {
   "cell_type": "code",
   "execution_count": null,
   "metadata": {},
   "outputs": [],
   "source": [
    "tools = [parse_algebra_tool, complex_algebra_tool]\n",
    "\n",
    "react = initialize_agent(tools, llm, AgentType.ZERO_SHOT_REACT_DESCRIPTION, verbose = True)"
   ]
  },
  {
   "cell_type": "code",
   "execution_count": null,
   "metadata": {},
   "outputs": [],
   "source": [
    "question = \"add the complex numbers (3+4j) and (1-2j).\"\n",
    "response = react.run(question)\n",
    "print(response)"
   ]
  }
 ],
 "metadata": {
  "kernelspec": {
   "display_name": "Python 3",
   "language": "python",
   "name": "python3"
  },
  "language_info": {
   "codemirror_mode": {
    "name": "ipython",
    "version": 3
   },
   "file_extension": ".py",
   "mimetype": "text/x-python",
   "name": "python",
   "nbconvert_exporter": "python",
   "pygments_lexer": "ipython3",
   "version": "3.10.0"
  }
 },
 "nbformat": 4,
 "nbformat_minor": 2
}
