{
 "cells": [
  {
   "cell_type": "markdown",
   "metadata": {},
   "source": [
    "# ReAct\n",
    "#### ReAct: Synergizing Reasoning and Acting in Language Models"
   ]
  },
  {
   "cell_type": "markdown",
   "metadata": {},
   "source": [
    "# What is ReAct?\n",
    "\n",
    "It is all about reasoning and action\n",
    "\n",
    "It advanced the way of thinking from standard sort of prompting through chain of thought prompting actually now being able to have reason tracing and actions as well.\n",
    "\n",
    "\n",
    "Reasoning only: increase the performance of the model\n",
    "ask llm a question without asking anything else, they will tend to give an answer and then they will tend to double down on that answer, meaning any sort of reasoning that they give you after that will be justification for that answer. Whereas, if you can get them to do the reasoning first then give the answer, that the answer tends to actually be much better because the reasoning primes what is going to be needed in the answer so that the answer itself ends up being a much better answer.\n",
    "\n",
    "\n",
    "Action only: if we can get them to actually do something in an environment, taking an action in environment, and then use that as an observation back in there. Basically it is about using actions on environments to basically help a large language models.\n",
    "\n",
    "ReAct uses both these techniques together and shows that this can actually get much better results.\n",
    "\n",
    "Reasoning upfront and got taking some kind of action (use environments like langchain), then getting some observation back into the language model and then this can be used then for refining the reasoning. We are getting multi-step ways of thinking but not just in one shot (like chain of thought) but over multiple shots with this."
   ]
  },
  {
   "cell_type": "code",
   "execution_count": null,
   "metadata": {},
   "outputs": [],
   "source": [
    "!pip install wikipedia"
   ]
  },
  {
   "cell_type": "code",
   "execution_count": null,
   "metadata": {},
   "outputs": [],
   "source": [
    "from langchain import OpenAI, Wikipedia\n",
    "from langchain.agents import initialize_agent, Tool\n",
    "from langchain.agents import AgentType\n",
    "from langchain.agents.react.base import DocstoreExplorer"
   ]
  },
  {
   "cell_type": "code",
   "execution_count": null,
   "metadata": {},
   "outputs": [],
   "source": [
    "# DocStoreExplorer is a utility class provided by langchain library and it interacts with a document store such as Wikipedia. Wikipedia provide 2 functions which are search and lookup. We access them via using DocstoreExplorer\n",
    "docstore = DocstoreExplorer(Wikipedia())\n",
    "\n",
    "# we can add more tools via defining our functions\n",
    "# Wikipedia tools\n",
    "tools = [\n",
    "    Tool(\n",
    "        name = \"Search\",\n",
    "        func = docstore.search,\n",
    "        description=\"useful for when you need to ask with search\"\n",
    "    ),\n",
    "    Tool(\n",
    "        name = \"Lookup\",\n",
    "        func = docstore.lookup,\n",
    "        description=\"useful for when you need to ask with lookup\"\n",
    "    )\n",
    "]\n",
    "\n",
    "llm = OpenAI(temperature=0, model_name = \"gpt-4\")\n",
    "\n",
    "# initialize_agent sets up an agent with specified tools, a language model and a defined agent type\n",
    "# verbose=True ensures that detailed logs or outputs are printed during the agent's operation\n",
    "react = initialize_agent(tools, llm, agent=AgentType.REACT_DOCSTORE, verbose = True)\n",
    "\n",
    "question = \"How old is the president of the United States?\"\n",
    "\n",
    "react.run(question)"
   ]
  },
  {
   "cell_type": "code",
   "execution_count": null,
   "metadata": {},
   "outputs": [],
   "source": [
    "# These question, thought and action examples come from the paper. If you are trying to make a react in a particular area, then your examples should be about this specific area \n",
    "print(react.agent.llm_chain.prompt.template)"
   ]
  },
  {
   "cell_type": "code",
   "execution_count": null,
   "metadata": {},
   "outputs": [],
   "source": [
    "question = \"How old is the first president of the republic of Türkiye?\"\n",
    "react.run(question)"
   ]
  },
  {
   "cell_type": "markdown",
   "metadata": {},
   "source": [
    "Let's see a multi hop example"
   ]
  },
  {
   "cell_type": "code",
   "execution_count": null,
   "metadata": {},
   "outputs": [],
   "source": [
    "question = \"What is the first film that Russell Crowe won an Oscar for, and who directed that movie?\"\n",
    "react.run(question)"
   ]
  },
  {
   "cell_type": "code",
   "execution_count": null,
   "metadata": {},
   "outputs": [],
   "source": [
    "import langchain\n",
    "langchain.debug = True"
   ]
  },
  {
   "cell_type": "code",
   "execution_count": null,
   "metadata": {},
   "outputs": [],
   "source": [
    "question = \"What is the first film that Russell Crowe won an Oscar for, and who directed that movie?\"\n",
    "react.run(question)"
   ]
  },
  {
   "cell_type": "code",
   "execution_count": null,
   "metadata": {},
   "outputs": [],
   "source": [
    "langchain.debug = False"
   ]
  }
 ],
 "metadata": {
  "kernelspec": {
   "display_name": "Python 3",
   "language": "python",
   "name": "python3"
  },
  "language_info": {
   "codemirror_mode": {
    "name": "ipython",
    "version": 3
   },
   "file_extension": ".py",
   "mimetype": "text/x-python",
   "name": "python",
   "nbconvert_exporter": "python",
   "pygments_lexer": "ipython3",
   "version": "3.10.0"
  }
 },
 "nbformat": 4,
 "nbformat_minor": 2
}
