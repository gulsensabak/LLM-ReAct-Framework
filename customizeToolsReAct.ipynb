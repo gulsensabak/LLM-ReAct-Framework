{
 "cells": [
  {
   "cell_type": "code",
   "execution_count": null,
   "metadata": {},
   "outputs": [],
   "source": [
    "from langchain import OpenAI, Wikipedia\n",
    "from langchain.agents import initialize_agent, Tool\n",
    "from langchain.agents import AgentType\n",
    "from langchain.agents.react.base import DocstoreExplorer"
   ]
  },
  {
   "cell_type": "code",
   "execution_count": null,
   "metadata": {},
   "outputs": [],
   "source": [
    "from dotenv import load_dotenv\n",
    "import os\n",
    "\n",
    "load_dotenv()\n",
    "API_KEY = os.environ.get(\"OPENAI_API_KEY\")"
   ]
  },
  {
   "cell_type": "markdown",
   "metadata": {},
   "source": [
    "OpenAI Class: This class is typically used for the older models (like GPT-3 and earlier versions) that interact through the /v1/completions endpoint. These models process text input as a single prompt and return a text-based completion.\n",
    "\n",
    "ChatOpenAI Class: This class is specifically designed for chat-based models like GPT-4, which interact through the /v1/chat/completions endpoint.These models are structured to handle conversations, where input is provided as a series of messages (as a conversation) rather than a single prompt.\n",
    "\n",
    "I used ChatopenAI"
   ]
  },
  {
   "cell_type": "code",
   "execution_count": null,
   "metadata": {},
   "outputs": [],
   "source": [
    "from langchain.chat_models import ChatOpenAI\n",
    "\n",
    "llm = ChatOpenAI(temperature = 0, model = \"gpt-3.5-turbo\")"
   ]
  },
  {
   "cell_type": "markdown",
   "metadata": {},
   "source": [
    "REACT_DOCSTORE is designed to work with exactly two tools: a search tool and a lookup tool. \n",
    "\n",
    "Because of this restriction I used more flexible tool like: ZERO_SHOT_REACT_DESCRIPTION"
   ]
  },
  {
   "cell_type": "code",
   "execution_count": null,
   "metadata": {},
   "outputs": [],
   "source": [
    "docstore = DocstoreExplorer(Wikipedia())\n",
    "\n",
    "def simple_math(question: str) -> str:\n",
    "    try:\n",
    "        answer = eval(question)\n",
    "        return str(answer)\n",
    "    except Exception as e:\n",
    "        return str(e)\n",
    "\n",
    "math_tool = Tool(\n",
    "        name = \"MathTool\",\n",
    "        func = simple_math,\n",
    "        description= \"useful for performing basic arithmetic calculations\"\n",
    "    )\n",
    "\n",
    "tools =  [\n",
    "    Tool(\n",
    "        name = \"Search\",\n",
    "        func = docstore.search,\n",
    "        description=\"useful for when you need to ask with search\"        \n",
    "    ),\n",
    "    Tool(\n",
    "        name = \"Lookup\",\n",
    "        func = docstore.lookup,\n",
    "        description=\"useful for when you need to ask with lookup\"\n",
    "    )\n",
    "]\n",
    "\n",
    "tools.append(math_tool)\n",
    "\n",
    "react = initialize_agent(tools, llm, agent= AgentType.ZERO_SHOT_REACT_DESCRIPTION, verbose = True)"
   ]
  },
  {
   "cell_type": "code",
   "execution_count": null,
   "metadata": {},
   "outputs": [],
   "source": [
    "question = \"What is 100/25\"\n",
    "react.run(question)"
   ]
  }
 ],
 "metadata": {
  "kernelspec": {
   "display_name": "Python 3",
   "language": "python",
   "name": "python3"
  },
  "language_info": {
   "codemirror_mode": {
    "name": "ipython",
    "version": 3
   },
   "file_extension": ".py",
   "mimetype": "text/x-python",
   "name": "python",
   "nbconvert_exporter": "python",
   "pygments_lexer": "ipython3",
   "version": "3.10.0"
  }
 },
 "nbformat": 4,
 "nbformat_minor": 2
}
